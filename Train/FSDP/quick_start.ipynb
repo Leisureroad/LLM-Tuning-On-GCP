{
 "cells": [
  {
   "cell_type": "markdown",
   "metadata": {},
   "source": [
    "1. Init scirpt parameters"
   ]
  },
  {
   "cell_type": "code",
   "execution_count": null,
   "metadata": {
    "vscode": {
     "languageId": "plaintext"
    }
   },
   "outputs": [],
   "source": [
    "# Set SingleNode Training or MultiNode Training\n",
    "MULTI_NODE = True"
   ]
  },
  {
   "cell_type": "code",
   "execution_count": null,
   "metadata": {
    "vscode": {
     "languageId": "plaintext"
    }
   },
   "outputs": [],
   "source": [
    "# Input your project id \n",
    "PROJECT_ID = <PROJECT_ID>  # @param {type:\"string\"}"
   ]
  },
  {
   "cell_type": "code",
   "execution_count": null,
   "metadata": {
    "vscode": {
     "languageId": "plaintext"
    }
   },
   "outputs": [],
   "source": [
    "# Input your GCP resource region\n",
    "REGION = <REGION>  # @param {type: \"string\"}"
   ]
  },
  {
   "cell_type": "code",
   "execution_count": null,
   "metadata": {
    "vscode": {
     "languageId": "plaintext"
    }
   },
   "outputs": [],
   "source": [
    "# Input your cloud bucket URI, example: gcs://<bucketname>\n",
    "BUCKET_URI = <GCS_BUCKET_URI>  # @param {type:\"string\"}"
   ]
  },
  {
   "cell_type": "code",
   "execution_count": null,
   "metadata": {
    "vscode": {
     "languageId": "plaintext"
    }
   },
   "outputs": [],
   "source": [
    "# Input your custom training image uri\n",
    "IMAGE_URI= <IMAGE_URI> # @param {type:\"string\"}"
   ]
  },
  {
   "cell_type": "code",
   "execution_count": null,
   "metadata": {
    "vscode": {
     "languageId": "plaintext"
    }
   },
   "outputs": [],
   "source": [
    "# Input Vertex AI tensorboard display name\n",
    "TENSORBOARD_DISPLAY_NAME = \"llama2_tensorboard\" # @param {type:\"string\"}"
   ]
  },
  {
   "cell_type": "code",
   "execution_count": null,
   "metadata": {
    "vscode": {
     "languageId": "plaintext"
    }
   },
   "outputs": [],
   "source": [
    "# Input service account, please create the service acccount before the training\n",
    "SVC_ACCOUNT=<SVC_ACCOUNT> # @param {type:\"string\"}"
   ]
  },
  {
   "cell_type": "markdown",
   "metadata": {},
   "source": [
    "2. Create Service Account"
   ]
  },
  {
   "cell_type": "markdown",
   "metadata": {},
   "source": [
    "3. Create Cloud Bucket"
   ]
  },
  {
   "cell_type": "markdown",
   "metadata": {},
   "source": [
    "4. Create Vertex AI tensorboard instance"
   ]
  },
  {
   "cell_type": "code",
   "execution_count": null,
   "metadata": {
    "vscode": {
     "languageId": "plaintext"
    }
   },
   "outputs": [],
   "source": [
    "# Create tensorboard instance\n",
    "from google.cloud import aiplatform\n",
    "def create_tensorboard_sample(\n",
    "    project: str,\n",
    "    display_name: str,\n",
    "    location: str,\n",
    "):\n",
    "    aiplatform.init(project=project, location=location)\n",
    "\n",
    "    tensorboard = aiplatform.Tensorboard.create(\n",
    "        display_name=display_name,\n",
    "        project=project,\n",
    "        location=location,\n",
    "    )\n",
    "\n",
    "    print(tensorboard.resource_name)\n",
    "    return tensorboard.resource_name"
   ]
  },
  {
   "cell_type": "code",
   "execution_count": null,
   "metadata": {
    "vscode": {
     "languageId": "plaintext"
    }
   },
   "outputs": [],
   "source": [
    "# input Vertex AI tensorboard instance id, example projects/<project_number>/locations/<region>/tensorboards/<tensorboard_instance_id>\n",
    "# TENSORBOARD= <TENSORBOARD_INSTANCE_ID> # @param {type:\"string\"}\n",
    "TENSORBOARD = create_tensorboard_sample(project=PROJECT_ID, display_name=TENSORBOARD_DISPLAY_NAME, location=REGION)"
   ]
  },
  {
   "cell_type": "markdown",
   "metadata": {},
   "source": [
    "5. Build custom training image"
   ]
  },
  {
   "cell_type": "markdown",
   "metadata": {},
   "source": [
    "6. Create Vertex AI custome training JOB"
   ]
  },
  {
   "cell_type": "code",
   "execution_count": null,
   "metadata": {
    "vscode": {
     "languageId": "plaintext"
    }
   },
   "outputs": [],
   "source": [
    "# Input cluster spec parameters\n",
    "HEAD_NODE_ACCELERATOR_COUNT = 1\n",
    "HEAD_NODE_COUNT = 1\n",
    "\n",
    "# If multinode training, set worker node spec parameters\n",
    "WORKER_NODE_ACCELERATOR_COUNT = 1\n",
    "WORKER_NODE_COUNT = 1"
   ]
  },
  {
   "cell_type": "code",
   "execution_count": null,
   "metadata": {
    "vscode": {
     "languageId": "plaintext"
    }
   },
   "outputs": [],
   "source": [
    "# Setup python package dependacy\n",
    "from datetime import datetime\n",
    "from google.cloud import aiplatform\n",
    "\n",
    "# init aiplaform sdk\n",
    "aiplatform.init(project=PROJECT_ID, staging_bucket=BUCKET_URI, location=REGION)"
   ]
  },
  {
   "cell_type": "code",
   "execution_count": null,
   "metadata": {
    "vscode": {
     "languageId": "plaintext"
    }
   },
   "outputs": [],
   "source": [
    "# Execute this cell to launch an SingleNode training\n",
    "if MULTI_NODE == False:\n",
    "    worker_pool_specs = [\n",
    "        # `WorkerPoolSpec` for worker pool 0, primary replica, required  \n",
    "        {\n",
    "            \"machine_spec\": {\n",
    "                \"machine_type\": \"a2-highgpu-1g\", # \"a2-highgpu-1g\",\"g2-standard-12\",\"n1-standard-4\"\n",
    "                \"accelerator_type\": \"NVIDIA_TESLA_A100\", #\"NVIDIA_L4\",\n",
    "                \"accelerator_count\": HEAD_NODE_ACCELERATOR_COUNT,       \n",
    "            },\n",
    "            \"replica_count\": HEAD_NODE_COUNT,\n",
    "            \"container_spec\": {\n",
    "                \"image_uri\": IMAGE_URI,\n",
    "                \"command\": [],\n",
    "                \"args\": [],\n",
    "                \"env\": [],                \n",
    "            },\n",
    "            \"disk_spec\": {\n",
    "                \"boot_disk_size_gb\": 1000,            \n",
    "            }\n",
    "        },\n",
    "    ]\n",
    "\n",
    "    TIMESTAMP = datetime.now().strftime(\"%Y%m%d%H%M%S\")\n",
    "    JOB_NAME  = \"llama2finetunecustomjob \" + TIMESTAMP\n",
    "\n",
    "    my_job = aiplatform.CustomJob(\n",
    "        display_name=JOB_NAME,    \n",
    "        worker_pool_specs=worker_pool_specs,\n",
    "        base_output_dir=BUCKET_URI,\n",
    "    )"
   ]
  },
  {
   "cell_type": "code",
   "execution_count": null,
   "metadata": {
    "vscode": {
     "languageId": "plaintext"
    }
   },
   "outputs": [],
   "source": [
    "# Execute this cell to launch an MultiNode training\n",
    "if MULTI_NODE == True:\n",
    "    worker_pool_specs = [\n",
    "        # `WorkerPoolSpec` for worker pool 0, primary replica, required  \n",
    "        {\n",
    "            \"machine_spec\": {\n",
    "                \"machine_type\": \"g2-standard-12\", # \"a2-highgpu-1g\",\"g2-standard-12\",\"n1-standard-4\"\n",
    "                \"accelerator_type\": \"NVIDIA_TESLA_A100\", #\"NVIDIA_L4\",\n",
    "                \"accelerator_count\": HEAD_NODE_ACCELERATOR_COUNT,       \n",
    "            },\n",
    "            \"replica_count\": HEAD_NODE_COUNT,\n",
    "            \"container_spec\": {\n",
    "                \"image_uri\": IMAGE_URI,\n",
    "                \"command\": [],\n",
    "                \"args\": [],\n",
    "                \"env\": [],                \n",
    "            },\n",
    "        },\n",
    "        {\n",
    "        \"machine_spec\": {\n",
    "                \"machine_type\": \"g2-standard-12\", # \"a2-highgpu-1g\",\"g2-standard-12\",\"n1-standard-4\"\n",
    "                \"accelerator_type\": \"NVIDIA_TESLA_A100\", #\"NVIDIA_L4\",\n",
    "                \"accelerator_count\": WORKER_NODE_ACCELERATOR_COUNT,          \n",
    "        },\n",
    "        \"replica_count\": WORKER_NODE_COUNT,        \n",
    "        \"container_spec\": {\n",
    "            \"image_uri\": IMAGE_URI,\n",
    "            \"command\": [],\n",
    "                \"args\": [],\n",
    "                \"env\": [],\n",
    "        },        \n",
    "        \"disk_spec\": {\n",
    "                \"boot_disk_size_gb\": 1000,            \n",
    "        }        \n",
    "        },\n",
    "    ]\n",
    "\n",
    "    TIMESTAMP = datetime.now().strftime(\"%Y%m%d%H%M%S\")\n",
    "    JOB_NAME  = \"llama2finetunecustomjob \" + TIMESTAMP\n",
    "\n",
    "    my_job = aiplatform.CustomJob(\n",
    "        display_name=JOB_NAME,    \n",
    "        worker_pool_specs=worker_pool_specs,\n",
    "        base_output_dir=BUCKET_URI,\n",
    "    )"
   ]
  },
  {
   "cell_type": "code",
   "execution_count": null,
   "metadata": {
    "vscode": {
     "languageId": "plaintext"
    }
   },
   "outputs": [],
   "source": [
    "# Submit Vertex AI custom trainig JOB\n",
    "my_job.submit(    \n",
    "    enable_web_access=True, # For debugging\n",
    "    service_account=SVC_ACCOUNT,\n",
    "    tensorboard=TENSORBOARD,\n",
    ")"
   ]
  }
 ],
 "metadata": {
  "language_info": {
   "name": "python"
  }
 },
 "nbformat": 4,
 "nbformat_minor": 2
}
